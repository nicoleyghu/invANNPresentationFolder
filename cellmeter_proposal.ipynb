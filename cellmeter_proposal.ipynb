{
 "cells": [
  {
   "cell_type": "markdown",
   "metadata": {},
   "source": [
    "# Summer 2019 CX4240 - Project Proposal\n",
    "\n",
    "Dr. Mahdi Roozbahani\n",
    "\n",
    "Deadline: Jun 20th, Thursday."
   ]
  },
  {
   "cell_type": "markdown",
   "metadata": {},
   "source": [
    "### Project Proposal\n",
    "\n",
    "## Automated Cell Counting for Hemocytometer Images\n",
    "\n",
    "### Group:\n",
    "\n",
    "   - Gabriel Sabenca Gusmao **[GSG]**\n",
    "   - Nicole Yuge Hu **[NYH]**\n",
    "   - Zhenzi Yu  **[ZY]**"
   ]
  },
  {
   "cell_type": "markdown",
   "metadata": {},
   "source": [
    "### 1. Issue\n",
    "\n",
    "**Manual cell counting**\n",
    "\n",
    "   - Time consuming\n",
    "   - Sometimes inaccurate do to improper dilution factor\n",
    "\n",
    "  <img src=\"./imgs/fig0.png\" alt=\"overview\" style=\"width: 400px;\"/> \n",
    "\n",
    "***Need cell count to estimate dilution $\\leftrightarrow$ Improper dilution leads to inaccurate cell count***"
   ]
  },
  {
   "cell_type": "markdown",
   "metadata": {},
   "source": [
    "### 2. Proposal: Automated cell counting based on clustering algorithm\n",
    "\n",
    "  - Time saving\n",
    "  - Does not require complex expensive equipmment (automated cell counter)\n",
    "  - Gives accurate cell count approxumation based on wider range of dilution"
   ]
  },
  {
   "cell_type": "markdown",
   "metadata": {},
   "source": [
    "\n",
    "### 3. Similar projects\n",
    "\n",
    "cell profiler https://github.com/CellProfiler/CellProfiler-Analyst\n",
    "\n",
    "   - Has functionalities that are not needed for the sake of this project.\n",
    "   - Needs hyperparameter tunning."
   ]
  },
  {
   "cell_type": "markdown",
   "metadata": {},
   "source": [
    "### 4. Identified Problems\n",
    "\n",
    "      \n",
    "   - Differentiate viable cells from other contaminants and dead cells\n",
    "   \n",
    "   <img src=\"./imgs/fig7.png\" alt=\"overview\" style=\"width: 650px;\"/> \n",
    "   \n",
    "   \n",
    "   - Counting for clustered cells\n",
    "   \n",
    "   \n",
    "   <img src=\"./imgs/fig8.png\" alt=\"overview\" style=\"width: 400px;\"/>    "
   ]
  },
  {
   "cell_type": "markdown",
   "metadata": {},
   "source": [
    "### Brainstorming\n",
    "\n",
    "\n",
    "- Color inversion? **[NYH]**\n",
    "- Cluster by density **[NYH]**\n",
    "   - Identify small circles formed by the dye around viable cells.\n",
    "- Identify number of clusters **[NYH]** and **[GSG]**\n",
    "   - Radii can be first specified as an user input (supervised), as there exist an expeted range for it.\n",
    "   - Map data to a new feature as of which radius can be found."
   ]
  },
  {
   "cell_type": "markdown",
   "metadata": {},
   "source": [
    "### Raw Data\n",
    "\n",
    "#### Images\n",
    "\n",
    "<img src=\"./imgs/fig2.png\" alt=\"overview\" style=\"width: 400px;\"/>    \n",
    "<img src=\"./imgs/fig3.png\" alt=\"overview\" style=\"width: 400px;\"/>    \n",
    "<img src=\"./imgs/fig4.png\" alt=\"overview\" style=\"width: 400px;\"/>    \n",
    "<img src=\"./imgs/fig5.png\" alt=\"overview\" style=\"width: 400px;\"/>    \n",
    "\n"
   ]
  }
 ],
 "metadata": {
  "kernelspec": {
   "display_name": "kinetics",
   "language": "python",
   "name": "kinetics"
  },
  "language_info": {
   "codemirror_mode": {
    "name": "ipython",
    "version": 3
   },
   "file_extension": ".py",
   "mimetype": "text/x-python",
   "name": "python",
   "nbconvert_exporter": "python",
   "pygments_lexer": "ipython3",
   "version": "3.7.3"
  },
  "latex_envs": {
   "LaTeX_envs_menu_present": true,
   "autoclose": false,
   "autocomplete": true,
   "bibliofile": "biblio.bib",
   "cite_by": "apalike",
   "current_citInitial": 1,
   "eqLabelWithNumbers": true,
   "eqNumInitial": 1,
   "hotkeys": {
    "equation": "Ctrl-E",
    "itemize": "Ctrl-I"
   },
   "labels_anchors": false,
   "latex_user_defs": false,
   "report_style_numbering": false,
   "user_envs_cfg": false
  }
 },
 "nbformat": 4,
 "nbformat_minor": 2
}
