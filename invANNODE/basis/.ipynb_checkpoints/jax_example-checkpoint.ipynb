{
 "cells": [
  {
   "cell_type": "code",
   "execution_count": 1,
   "metadata": {},
   "outputs": [
    {
     "name": "stderr",
     "output_type": "stream",
     "text": [
      "/home/ggusmao3/RESEARCH/jax/jax/lib/xla_bridge.py:130: UserWarning: No GPU/TPU found, falling back to CPU.\n",
      "  warnings.warn('No GPU/TPU found, falling back to CPU.')\n"
     ]
    },
    {
     "name": "stdout",
     "output_type": "stream",
     "text": [
      "0\n",
      "(10,)\n",
      "(10,)\n",
      "1\n",
      "2\n",
      "3\n",
      "4\n",
      "5\n",
      "6\n",
      "7\n",
      "8\n",
      "9\n"
     ]
    }
   ],
   "source": [
    "import jax.numpy as np\n",
    "from jax import random\n",
    "from jax.experimental import stax\n",
    "from jax.experimental.stax import Conv, Dense, MaxPool, Relu, Flatten, LogSoftmax\n",
    "\n",
    "# Use stax to set up network initialization and evaluation functions\n",
    "net_init, net_apply = stax.serial(\n",
    "    Conv(1, (3, 3), padding='SAME'), Relu,\n",
    "    Conv(4, (3, 3), padding='SAME'), Relu,\n",
    "    MaxPool((2, 2)), Flatten,\n",
    "    Dense(32), Relu,\n",
    "    Dense(10), LogSoftmax,\n",
    ")\n",
    "\n",
    "# Initialize parameters, not committing to a batch shape\n",
    "rng = random.PRNGKey(0)\n",
    "in_shape = (-1, 4, 4, 1)\n",
    "out_shape, net_params = net_init(rng, in_shape)\n",
    "\n",
    "# Apply network to dummy inputs\n",
    "inputs = np.zeros((32, 4, 4, 1))\n",
    "predictions = net_apply(net_params, inputs)\n",
    "\n",
    "from jax.experimental import optimizers\n",
    "from jax import jit, grad\n",
    "\n",
    "# Define a simple squared-error loss\n",
    "def loss(params, batch):\n",
    "  inputs, targets = batch\n",
    "  predictions = net_apply(params, inputs)\n",
    "  return np.sum((predictions - targets)**2)\n",
    "\n",
    "# Use optimizers to set optimizer initialization and update functions\n",
    "opt_init, opt_update, get_params = optimizers.momentum(step_size=1e-3, mass=0.9)\n",
    "\n",
    "# Define a compiled update step\n",
    "@jit\n",
    "def step(i, opt_state, batch):\n",
    "  params = get_params(opt_state)\n",
    "  print(np.shape(params))\n",
    "  g = grad(loss)(params, batch)\n",
    "  print(np.shape(g))\n",
    "  return opt_update(i, g, opt_state)\n",
    "\n",
    "# Dummy input data stream\n",
    "data_generator = ((np.zeros((32, 4, 4, 1)), np.zeros((32, 10)))\n",
    "                  for _ in range(10))\n",
    "\n",
    "# Optimize parameters in a loop\n",
    "opt_state = opt_init(net_params)\n",
    "for i in range(10):\n",
    "  print(i)\n",
    "  opt_state = step(i, opt_state, next(data_generator))\n",
    "net_params = get_params(opt_state)"
   ]
  },
  {
   "cell_type": "code",
   "execution_count": null,
   "metadata": {},
   "outputs": [],
   "source": []
  }
 ],
 "metadata": {
  "jupytext": {
   "formats": "ipynb,py:light"
  },
  "kernelspec": {
   "display_name": "ML",
   "language": "python",
   "name": "ml"
  },
  "language_info": {
   "codemirror_mode": {
    "name": "ipython",
    "version": 3
   },
   "file_extension": ".py",
   "mimetype": "text/x-python",
   "name": "python",
   "nbconvert_exporter": "python",
   "pygments_lexer": "ipython3",
   "version": "3.6.8"
  },
  "latex_envs": {
   "LaTeX_envs_menu_present": true,
   "autoclose": false,
   "autocomplete": true,
   "bibliofile": "biblio.bib",
   "cite_by": "apalike",
   "current_citInitial": 1,
   "eqLabelWithNumbers": true,
   "eqNumInitial": 1,
   "hotkeys": {
    "equation": "Ctrl-E",
    "itemize": "Ctrl-I"
   },
   "labels_anchors": false,
   "latex_user_defs": false,
   "report_style_numbering": false,
   "user_envs_cfg": false
  }
 },
 "nbformat": 4,
 "nbformat_minor": 2
}
